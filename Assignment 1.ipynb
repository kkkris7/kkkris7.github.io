{
 "cells": [
  {
   "cell_type": "markdown",
   "metadata": {},
   "source": [
    "Python Essentials\n",
    "\n",
    "Complete these exercises and submit a single Jupyter Notebook file (in .html format, not .ipynb) that contains your responses by the submission deadline. Late assignments will be penalized up to 2 points per day (20%), unless prior arrangements have been made to submit the assignment after the deadline.\n",
    "\n",
    "All notebook cells that contain essential steps should be executed and the output should be visible, so as to demonstrate your successful completion of the exercise. If you cannot complete an exercise in its entirety, you should make an effort to demonstrate your intermediate progress in order to maximize partial credit, and move forward as best as possible. You may submit any written answers to the exercises in the notebook as text cells. The notebook should be well organized, and each section should be clearly labeled with the exercise (and part) that it addresses (e.g., Exercise #1a, #1b, #2). Use (clear and concise) comments as needed to help describe each step of your process.\n",
    "\n",
    "Academic Integrity: Each student is expected to submit his or her own original work. You may collaborate with your classmates on the concepts of the homework assignment, but you should not submit the same documentation for any part of the assignment. Submissions that contain significant similarities will be reported directly to the Office of Student Conduct."
   ]
  },
  {
   "cell_type": "markdown",
   "metadata": {},
   "source": [
    "Exercise #1 (3 points)\n",
    "\n",
    "One of the earliest forms of cryptography was the Caesar cipher, a form of substitution cipher in which each letter in the alphabet is shifted by a fixed number of positions (with wrapping). Caesar himself used a left shift of three (-3), but any shift can be used. For example, a Caesar cipher with a right shift of two (+2) would replace the letter 'A' with the letter 'C', the letter 'B' with the letter 'D', and so on, with the letters 'Y' and 'Z' being replaced with the letters 'A' and 'B', respectively. In such a scheme, the word 'ANALYTICS' would be encrypted as 'CPCNAVKEU'. \n",
    "\n",
    "Define a function shift_alpha that takes in an alphabet string (A) and a shift constant (shift, default value of 0), prints the original and shifted alphabet (each as a single string), and returns a translation dictionary that contains each original letter as the key and the encrypted letter as the value. Demonstrate the performance of your function on the upper case alphabet with a shift of 0, +12, and -3.\n",
    "\n",
    "Hint:\n",
    "\n",
    "In the string module, there are built-in string constants ascii_lowercase and ascii_uppercase that contains lower case letters (a-z) and upper case letters (A-Z) that you can use in your solution.\n"
   ]
  },
  {
   "cell_type": "code",
   "execution_count": 4,
   "metadata": {},
   "outputs": [],
   "source": [
    "import string"
   ]
  },
  {
   "cell_type": "code",
   "execution_count": 58,
   "metadata": {},
   "outputs": [],
   "source": [
    "def shift_alpha(word, shift=0):\n",
    "    list1=list(word)\n",
    "    cipher = []\n",
    "    for i in range(len(word)):\n",
    "        c = string.ascii_uppercase.find(word[i])\n",
    "        d = (c+shift)%26\n",
    "        cipher.append(string.ascii_uppercase[d]) \n",
    "    cipherstr = ''.join(cipher)\n",
    "    \n",
    "    print(word,cipherstr)\n",
    "    zip1=zip(list1,cipher)\n",
    "    dict1=dict(zip1)\n",
    "    return(dict1)"
   ]
  },
  {
   "cell_type": "code",
   "execution_count": 59,
   "metadata": {},
   "outputs": [
    {
     "name": "stdout",
     "output_type": "stream",
     "text": [
      "ABCDEFGHIJKLMNOPQRSTUVWXYZ ABCDEFGHIJKLMNOPQRSTUVWXYZ\n"
     ]
    },
    {
     "data": {
      "text/plain": [
       "{'A': 'A',\n",
       " 'B': 'B',\n",
       " 'C': 'C',\n",
       " 'D': 'D',\n",
       " 'E': 'E',\n",
       " 'F': 'F',\n",
       " 'G': 'G',\n",
       " 'H': 'H',\n",
       " 'I': 'I',\n",
       " 'J': 'J',\n",
       " 'K': 'K',\n",
       " 'L': 'L',\n",
       " 'M': 'M',\n",
       " 'N': 'N',\n",
       " 'O': 'O',\n",
       " 'P': 'P',\n",
       " 'Q': 'Q',\n",
       " 'R': 'R',\n",
       " 'S': 'S',\n",
       " 'T': 'T',\n",
       " 'U': 'U',\n",
       " 'V': 'V',\n",
       " 'W': 'W',\n",
       " 'X': 'X',\n",
       " 'Y': 'Y',\n",
       " 'Z': 'Z'}"
      ]
     },
     "execution_count": 59,
     "metadata": {},
     "output_type": "execute_result"
    }
   ],
   "source": [
    "shift_alpha('ABCDEFGHIJKLMNOPQRSTUVWXYZ',0)"
   ]
  },
  {
   "cell_type": "code",
   "execution_count": 60,
   "metadata": {},
   "outputs": [
    {
     "name": "stdout",
     "output_type": "stream",
     "text": [
      "ABCDEFGHIJKLMNOPQRSTUVWXYZ MNOPQRSTUVWXYZABCDEFGHIJKL\n"
     ]
    },
    {
     "data": {
      "text/plain": [
       "{'A': 'M',\n",
       " 'B': 'N',\n",
       " 'C': 'O',\n",
       " 'D': 'P',\n",
       " 'E': 'Q',\n",
       " 'F': 'R',\n",
       " 'G': 'S',\n",
       " 'H': 'T',\n",
       " 'I': 'U',\n",
       " 'J': 'V',\n",
       " 'K': 'W',\n",
       " 'L': 'X',\n",
       " 'M': 'Y',\n",
       " 'N': 'Z',\n",
       " 'O': 'A',\n",
       " 'P': 'B',\n",
       " 'Q': 'C',\n",
       " 'R': 'D',\n",
       " 'S': 'E',\n",
       " 'T': 'F',\n",
       " 'U': 'G',\n",
       " 'V': 'H',\n",
       " 'W': 'I',\n",
       " 'X': 'J',\n",
       " 'Y': 'K',\n",
       " 'Z': 'L'}"
      ]
     },
     "execution_count": 60,
     "metadata": {},
     "output_type": "execute_result"
    }
   ],
   "source": [
    "shift_alpha('ABCDEFGHIJKLMNOPQRSTUVWXYZ',12)"
   ]
  },
  {
   "cell_type": "code",
   "execution_count": 61,
   "metadata": {},
   "outputs": [
    {
     "name": "stdout",
     "output_type": "stream",
     "text": [
      "ABCDEFGHIJKLMNOPQRSTUVWXYZ XYZABCDEFGHIJKLMNOPQRSTUVW\n"
     ]
    },
    {
     "data": {
      "text/plain": [
       "{'A': 'X',\n",
       " 'B': 'Y',\n",
       " 'C': 'Z',\n",
       " 'D': 'A',\n",
       " 'E': 'B',\n",
       " 'F': 'C',\n",
       " 'G': 'D',\n",
       " 'H': 'E',\n",
       " 'I': 'F',\n",
       " 'J': 'G',\n",
       " 'K': 'H',\n",
       " 'L': 'I',\n",
       " 'M': 'J',\n",
       " 'N': 'K',\n",
       " 'O': 'L',\n",
       " 'P': 'M',\n",
       " 'Q': 'N',\n",
       " 'R': 'O',\n",
       " 'S': 'P',\n",
       " 'T': 'Q',\n",
       " 'U': 'R',\n",
       " 'V': 'S',\n",
       " 'W': 'T',\n",
       " 'X': 'U',\n",
       " 'Y': 'V',\n",
       " 'Z': 'W'}"
      ]
     },
     "execution_count": 61,
     "metadata": {},
     "output_type": "execute_result"
    }
   ],
   "source": [
    "shift_alpha('ABCDEFGHIJKLMNOPQRSTUVWXYZ',-3)"
   ]
  },
  {
   "cell_type": "markdown",
   "metadata": {},
   "source": [
    "Exercise #2 (3 points)\n",
    "\n",
    "Define a function encrypt that takes in a word and a shift (default value = 0), and returns a string containing the encrypted version of the word using a Caesar shift. The function should work properly on upper and lower case letters, and return any non-alphabetic characters as is. Demonstrate that your function works properly on the following list of (case-sensitive) words/phrases with a Caesar shift of +5:\n",
    "\n",
    "apple, Maryland, Route 66, LaTeX, twenty-first century"
   ]
  },
  {
   "cell_type": "code",
   "execution_count": 23,
   "metadata": {},
   "outputs": [],
   "source": [
    "def encrypt(word, shift=0):\n",
    "    cipher = []\n",
    "    for i in range(len(word)):\n",
    "        if word[i].islower():\n",
    "            a = string.ascii_lowercase.find(word[i])\n",
    "            b = (a+shift)%26\n",
    "            cipher.append(string.ascii_lowercase[b])\n",
    "        elif word[i].isupper():\n",
    "            c = string.ascii_uppercase.find(word[i])\n",
    "            d = (c+shift)%26\n",
    "            cipher.append(string.ascii_uppercase[d]) \n",
    "        else:\n",
    "            cipher.append(word[i])\n",
    "    cipherstr = ''.join(cipher)\n",
    "    return cipherstr\n",
    "                "
   ]
  },
  {
   "cell_type": "code",
   "execution_count": 25,
   "metadata": {},
   "outputs": [
    {
     "data": {
      "text/plain": [
       "'fuuqj'"
      ]
     },
     "execution_count": 25,
     "metadata": {},
     "output_type": "execute_result"
    }
   ],
   "source": [
    "encrypt('apple',5)"
   ]
  },
  {
   "cell_type": "code",
   "execution_count": 26,
   "metadata": {},
   "outputs": [
    {
     "data": {
      "text/plain": [
       "'Rfwdqfsi'"
      ]
     },
     "execution_count": 26,
     "metadata": {},
     "output_type": "execute_result"
    }
   ],
   "source": [
    "encrypt('Maryland',5)"
   ]
  },
  {
   "cell_type": "code",
   "execution_count": 27,
   "metadata": {},
   "outputs": [
    {
     "data": {
      "text/plain": [
       "'Wtzyj 66'"
      ]
     },
     "execution_count": 27,
     "metadata": {},
     "output_type": "execute_result"
    }
   ],
   "source": [
    "encrypt('Route 66',5)"
   ]
  },
  {
   "cell_type": "code",
   "execution_count": 28,
   "metadata": {},
   "outputs": [
    {
     "data": {
      "text/plain": [
       "'QfYjC'"
      ]
     },
     "execution_count": 28,
     "metadata": {},
     "output_type": "execute_result"
    }
   ],
   "source": [
    "encrypt('LaTeX',5)"
   ]
  },
  {
   "cell_type": "code",
   "execution_count": 29,
   "metadata": {},
   "outputs": [
    {
     "data": {
      "text/plain": [
       "'ybjsyd-knwxy hjsyzwd'"
      ]
     },
     "execution_count": 29,
     "metadata": {},
     "output_type": "execute_result"
    }
   ],
   "source": [
    "encrypt('twenty-first century',5)"
   ]
  },
  {
   "cell_type": "markdown",
   "metadata": {},
   "source": [
    "Exercise #3 (4 points)\n",
    "\n",
    "Now suppose you receive an encrypted message. Write a function decrypt that takes in a message, and produces all possible translations of the message using a Caesar cipher. Report the decrypted message and the shift (in the range of [-12, 13]) on the following encrypted quotes from Greek philosophers:\n",
    "\n",
    "1. Aristotle: Swcnkva ku pqv cp cev, kv ku c jcdkv.\n",
    "\n",
    "2. Demosthenes: Dxlww zaazcefytetpd lcp zqepy esp mprtyytyr zq rcple pyepcactdpd.\n",
    "\n",
    "3. Hypatia: Fczy cm uh ohzifxgyhn, uhx nby zolnbyl qy nlupyf nby gily nlonb qy wuh wigjlybyhx. Ni ohxylmnuhx nby nbcham nbun uly un iol xiil cm nby vymn jlyjuluncih zil ohxylmnuhxcha nbimy nbun fcy vysihx."
   ]
  },
  {
   "cell_type": "code",
   "execution_count": 32,
   "metadata": {},
   "outputs": [],
   "source": [
    "nums = range(-12,14)\n",
    "def decrypt(word):\n",
    "    \n",
    "    for key in nums:\n",
    "        cipher = []    \n",
    "        for i in range(len(word)):\n",
    "            if word[i].islower():\n",
    "                a = string.ascii_lowercase.find(word[i])\n",
    "                b = (a-key)%26\n",
    "                cipher.append(string.ascii_lowercase[b])    \n",
    "            elif word[i].isupper():\n",
    "                c = string.ascii_uppercase.find(word[i])\n",
    "                d = (c-key)%26\n",
    "                cipher.append(string.ascii_uppercase[d])\n",
    "            else:\n",
    "                cipher.append(word[i])\n",
    "                \n",
    "            cipherstr = ''.join(cipher)\n",
    "\n",
    "        print(str(key)+','+ cipherstr)"
   ]
  },
  {
   "cell_type": "code",
   "execution_count": 33,
   "metadata": {},
   "outputs": [
    {
     "name": "stdout",
     "output_type": "stream",
     "text": [
      "-12,Pjxii lmmloqrkfqfbp xob lcqbk qeb ybdfkkfkd lc dobxq bkqbomofpbp.\n",
      "-11,Oiwhh kllknpqjepeao wna kbpaj pda xacejjejc kb cnawp ajpanlneoao.\n",
      "-10,Nhvgg jkkjmopidodzn vmz jaozi ocz wzbdiidib ja bmzvo ziozmkmdnzn.\n",
      "-9,Mguff ijjilnohcncym uly iznyh nby vyachhcha iz alyun yhnyljlcmym.\n",
      "-8,Lftee hiihkmngbmbxl tkx hymxg max uxzbggbgz hy zkxtm xgmxkikblxl.\n",
      "-7,Kesdd ghhgjlmfalawk sjw gxlwf lzw twyaffafy gx yjwsl wflwjhjakwk.\n",
      "-6,Jdrcc fggfiklezkzvj riv fwkve kyv svxzeezex fw xivrk vekvigizjvj.\n",
      "-5,Icqbb effehjkdyjyui qhu evjud jxu ruwyddydw ev whuqj udjuhfhyiui.\n",
      "-4,Hbpaa deedgijcxixth pgt duitc iwt qtvxccxcv du vgtpi tcitgegxhth.\n",
      "-3,Gaozz cddcfhibwhwsg ofs cthsb hvs psuwbbwbu ct ufsoh sbhsfdfwgsg.\n",
      "-2,Fznyy bccbeghavgvrf ner bsgra gur ortvaavat bs terng ragrecevfrf.\n",
      "-1,Eymxx abbadfgzufuqe mdq arfqz ftq nqsuzzuzs ar sdqmf qzfqdbdueqe.\n",
      "0,Dxlww zaazcefytetpd lcp zqepy esp mprtyytyr zq rcple pyepcactdpd.\n",
      "1,Cwkvv yzzybdexsdsoc kbo ypdox dro loqsxxsxq yp qbokd oxdobzbscoc.\n",
      "2,Bvjuu xyyxacdwrcrnb jan xocnw cqn knprwwrwp xo panjc nwcnayarbnb.\n",
      "3,Auitt wxxwzbcvqbqma izm wnbmv bpm jmoqvvqvo wn ozmib mvbmzxzqama.\n",
      "4,Zthss vwwvyabupaplz hyl vmalu aol ilnpuupun vm nylha lualywypzlz.\n",
      "5,Ysgrr uvvuxzatozoky gxk ulzkt znk hkmottotm ul mxkgz ktzkxvxoyky.\n",
      "6,Xrfqq tuutwyzsnynjx fwj tkyjs ymj gjlnssnsl tk lwjfy jsyjwuwnxjx.\n",
      "7,Wqepp sttsvxyrmxmiw evi sjxir xli fikmrrmrk sj kviex irxivtvmwiw.\n",
      "8,Vpdoo rssruwxqlwlhv duh riwhq wkh ehjlqqlqj ri juhdw hqwhusulvhv.\n",
      "9,Uocnn qrrqtvwpkvkgu ctg qhvgp vjg dgikppkpi qh itgcv gpvgtrtkugu.\n",
      "10,Tnbmm pqqpsuvojujft bsf pgufo uif cfhjoojoh pg hsfbu foufsqsjtft.\n",
      "11,Small opportunities are often the beginning of great enterprises.\n",
      "12,Rlzkk noonqstmhshdr zqd nesdm sgd adfhmmhmf ne fqdzs dmsdqoqhrdr.\n",
      "13,Qkyjj mnnmprslgrgcq ypc mdrcl rfc zcegllgle md epcyr clrcpnpgqcq.\n"
     ]
    }
   ],
   "source": [
    "decrypt('Dxlww zaazcefytetpd lcp zqepy esp mprtyytyr zq rcple pyepcactdpd.')"
   ]
  },
  {
   "cell_type": "code",
   "execution_count": 19,
   "metadata": {},
   "outputs": [
    {
     "name": "stdout",
     "output_type": "stream",
     "text": [
      "-12,Eiozwhm wg bch ob oqh, wh wg o vopwh.\n",
      "-11,Dhnyvgl vf abg na npg, vg vf n unovg.\n",
      "-10,Cgmxufk ue zaf mz mof, uf ue m tmnuf.\n",
      "-9,Bflwtej td yze ly lne, te td l slmte.\n",
      "-8,Aekvsdi sc xyd kx kmd, sd sc k rklsd.\n",
      "-7,Zdjurch rb wxc jw jlc, rc rb j qjkrc.\n",
      "-6,Ycitqbg qa vwb iv ikb, qb qa i pijqb.\n",
      "-5,Xbhspaf pz uva hu hja, pa pz h ohipa.\n",
      "-4,Wagroze oy tuz gt giz, oz oy g nghoz.\n",
      "-3,Vzfqnyd nx sty fs fhy, ny nx f mfgny.\n",
      "-2,Uyepmxc mw rsx er egx, mx mw e lefmx.\n",
      "-1,Txdolwb lv qrw dq dfw, lw lv d kdelw.\n",
      "0,Swcnkva ku pqv cp cev, kv ku c jcdkv.\n",
      "1,Rvbmjuz jt opu bo bdu, ju jt b ibcju.\n",
      "2,Quality is not an act, it is a habit.\n",
      "3,Ptzkhsx hr mns zm zbs, hs hr z gzahs.\n",
      "4,Osyjgrw gq lmr yl yar, gr gq y fyzgr.\n",
      "5,Nrxifqv fp klq xk xzq, fq fp x exyfq.\n",
      "6,Mqwhepu eo jkp wj wyp, ep eo w dwxep.\n",
      "7,Lpvgdot dn ijo vi vxo, do dn v cvwdo.\n",
      "8,Koufcns cm hin uh uwn, cn cm u buvcn.\n",
      "9,Jntebmr bl ghm tg tvm, bm bl t atubm.\n",
      "10,Imsdalq ak fgl sf sul, al ak s zstal.\n",
      "11,Hlrczkp zj efk re rtk, zk zj r yrszk.\n",
      "12,Gkqbyjo yi dej qd qsj, yj yi q xqryj.\n",
      "13,Fjpaxin xh cdi pc pri, xi xh p wpqxi.\n"
     ]
    }
   ],
   "source": [
    "decrypt('Swcnkva ku pqv cp cev, kv ku c jcdkv.')"
   ]
  },
  {
   "cell_type": "code",
   "execution_count": 20,
   "metadata": {},
   "outputs": [
    {
     "name": "stdout",
     "output_type": "stream",
     "text": [
      "-12,Rolk oy gt atlurjsktz, gtj znk laxznkx ck zxgbkr znk suxk zxazn ck igt iusvxknktj. Zu atjkxyzgtj znk znotmy zngz gxk gz uax juux oy znk hkyz vxkvgxgzout lux atjkxyzgtjotm znuyk zngz rok hkeutj.\n",
      "-11,Qnkj nx fs zsktqirjsy, fsi ymj kzwymjw bj ywfajq ymj rtwj ywzym bj hfs htruwjmjsi. Yt zsijwxyfsi ymj ymnslx ymfy fwj fy tzw ittw nx ymj gjxy uwjufwfynts ktw zsijwxyfsinsl ymtxj ymfy qnj gjdtsi.\n",
      "-10,Pmji mw er yrjsphqirx, erh xli jyvxliv ai xvezip xli qsvi xvyxl ai ger gsqtvilirh. Xs yrhivwxerh xli xlmrkw xlex evi ex syv hssv mw xli fiwx tvitevexmsr jsv yrhivwxerhmrk xlswi xlex pmi ficsrh.\n",
      "-9,Olih lv dq xqirogphqw, dqg wkh ixuwkhu zh wudyho wkh pruh wuxwk zh fdq frpsuhkhqg. Wr xqghuvwdqg wkh wklqjv wkdw duh dw rxu grru lv wkh ehvw suhsdudwlrq iru xqghuvwdqglqj wkrvh wkdw olh ehbrqg.\n",
      "-8,Nkhg ku cp wphqnfogpv, cpf vjg hwtvjgt yg vtcxgn vjg oqtg vtwvj yg ecp eqortgjgpf. Vq wpfgtuvcpf vjg vjkpiu vjcv ctg cv qwt fqqt ku vjg dguv rtgrctcvkqp hqt wpfgtuvcpfkpi vjqug vjcv nkg dgaqpf.\n",
      "-7,Mjgf jt bo vogpmenfou, boe uif gvsuifs xf usbwfm uif npsf usvui xf dbo dpnqsfifoe. Up voefstuboe uif uijoht uibu bsf bu pvs epps jt uif cftu qsfqbsbujpo gps voefstuboejoh uiptf uibu mjf cfzpoe.\n",
      "-6,Life is an unfoldment, and the further we travel the more truth we can comprehend. To understand the things that are at our door is the best preparation for understanding those that lie beyond.\n",
      "-5,Khed hr zm tmenkcldms, zmc sgd etqsgdq vd sqzudk sgd lnqd sqtsg vd bzm bnloqdgdmc. Sn tmcdqrszmc sgd sghmfr sgzs zqd zs ntq cnnq hr sgd adrs oqdozqzshnm enq tmcdqrszmchmf sgnrd sgzs khd adxnmc.\n",
      "-4,Jgdc gq yl sldmjbkclr, ylb rfc dsprfcp uc rpytcj rfc kmpc rpsrf uc ayl amknpcfclb. Rm slbcpqrylb rfc rfgleq rfyr ypc yr msp bmmp gq rfc zcqr npcnypyrgml dmp slbcpqrylbgle rfmqc rfyr jgc zcwmlb.\n",
      "-3,Ifcb fp xk rkcliajbkq, xka qeb croqebo tb qoxsbi qeb jlob qorqe tb zxk zljmobebka. Ql rkabopqxka qeb qefkdp qexq xob xq lro allo fp qeb ybpq mobmxoxqflk clo rkabopqxkafkd qelpb qexq ifb ybvlka.\n",
      "-2,Heba eo wj qjbkhziajp, wjz pda bqnpdan sa pnwrah pda ikna pnqpd sa ywj ykilnadajz. Pk qjzanopwjz pda pdejco pdwp wna wp kqn zkkn eo pda xaop lnalwnwpekj bkn qjzanopwjzejc pdkoa pdwp hea xaukjz.\n",
      "-1,Gdaz dn vi piajgyhzio, viy ocz apmoczm rz omvqzg ocz hjmz ompoc rz xvi xjhkmzcziy. Oj piyzmnoviy ocz ocdibn ocvo vmz vo jpm yjjm dn ocz wzno kmzkvmvodji ajm piyzmnoviydib ocjnz ocvo gdz wztjiy.\n",
      "0,Fczy cm uh ohzifxgyhn, uhx nby zolnbyl qy nlupyf nby gily nlonb qy wuh wigjlybyhx. Ni ohxylmnuhx nby nbcham nbun uly un iol xiil cm nby vymn jlyjuluncih zil ohxylmnuhxcha nbimy nbun fcy vysihx.\n",
      "1,Ebyx bl tg ngyhewfxgm, tgw max ynkmaxk px mktoxe max fhkx mknma px vtg vhfikxaxgw. Mh ngwxklmtgw max mabgzl matm tkx tm hnk whhk bl max uxlm ikxitktmbhg yhk ngwxklmtgwbgz mahlx matm ebx uxrhgw.\n",
      "2,Daxw ak sf mfxgdvewfl, sfv lzw xmjlzwj ow ljsnwd lzw egjw ljmlz ow usf ugehjwzwfv. Lg mfvwjklsfv lzw lzafyk lzsl sjw sl gmj vggj ak lzw twkl hjwhsjslagf xgj mfvwjklsfvafy lzgkw lzsl daw twqgfv.\n",
      "3,Czwv zj re lewfcudvek, reu kyv wlikyvi nv kirmvc kyv dfiv kilky nv tre tfdgivyveu. Kf leuvijkreu kyv kyzexj kyrk riv rk fli uffi zj kyv svjk givgrirkzfe wfi leuvijkreuzex kyfjv kyrk czv svpfeu.\n",
      "4,Byvu yi qd kdvebtcudj, qdt jxu vkhjxuh mu jhqlub jxu cehu jhkjx mu sqd secfhuxudt. Je kdtuhijqdt jxu jxydwi jxqj qhu qj ekh teeh yi jxu ruij fhufqhqjyed veh kdtuhijqdtydw jxeiu jxqj byu ruoedt.\n",
      "5,Axut xh pc jcudasbtci, pcs iwt ujgiwtg lt igpkta iwt bdgt igjiw lt rpc rdbegtwtcs. Id jcstghipcs iwt iwxcvh iwpi pgt pi djg sddg xh iwt qthi egtepgpixdc udg jcstghipcsxcv iwdht iwpi axt qtndcs.\n",
      "6,Zwts wg ob ibtczrasbh, obr hvs tifhvsf ks hfojsz hvs acfs hfihv ks qob qcadfsvsbr. Hc ibrsfghobr hvs hvwbug hvoh ofs oh cif rccf wg hvs psgh dfsdofohwcb tcf ibrsfghobrwbu hvcgs hvoh zws psmcbr.\n",
      "7,Yvsr vf na hasbyqzrag, naq gur shegure jr geniry gur zber gehgu jr pna pbzceruraq. Gb haqrefgnaq gur guvatf gung ner ng bhe qbbe vf gur orfg cercnengvba sbe haqrefgnaqvat gubfr gung yvr orlbaq.\n",
      "8,Xurq ue mz gzraxpyqzf, mzp ftq rgdftqd iq fdmhqx ftq yadq fdgft iq omz oaybdqtqzp. Fa gzpqdefmzp ftq ftuzse ftmf mdq mf agd paad ue ftq nqef bdqbmdmfuaz rad gzpqdefmzpuzs ftaeq ftmf xuq nqkazp.\n",
      "9,Wtqp td ly fyqzwoxpye, lyo esp qfcespc hp eclgpw esp xzcp ecfes hp nly nzxacpspyo. Ez fyopcdelyo esp estyrd esle lcp le zfc ozzc td esp mpde acpalcletzy qzc fyopcdelyotyr eszdp esle wtp mpjzyo.\n",
      "10,Vspo sc kx expyvnwoxd, kxn dro pebdrob go dbkfov dro wybo dbedr go mkx mywzboroxn. Dy exnobcdkxn dro drsxqc drkd kbo kd yeb nyyb sc dro locd zbozkbkdsyx pyb exnobcdkxnsxq dryco drkd vso loiyxn.\n",
      "11,Uron rb jw dwoxumvnwc, jwm cqn odacqna fn cajenu cqn vxan cadcq fn ljw lxvyanqnwm. Cx dwmnabcjwm cqn cqrwpb cqjc jan jc xda mxxa rb cqn knbc yanyjajcrxw oxa dwmnabcjwmrwp cqxbn cqjc urn knhxwm.\n",
      "12,Tqnm qa iv cvnwtlumvb, ivl bpm nczbpmz em bzidmt bpm uwzm bzcbp em kiv kwuxzmpmvl. Bw cvlmzabivl bpm bpqvoa bpib izm ib wcz lwwz qa bpm jmab xzmxizibqwv nwz cvlmzabivlqvo bpwam bpib tqm jmgwvl.\n",
      "13,Spml pz hu bumvsktlua, huk aol mbyaoly dl ayhcls aol tvyl aybao dl jhu jvtwyloluk. Av buklyzahuk aol aopunz aoha hyl ha vby kvvy pz aol ilza wylwhyhapvu mvy buklyzahukpun aovzl aoha spl ilfvuk.\n"
     ]
    }
   ],
   "source": [
    "decrypt('Fczy cm uh ohzifxgyhn, uhx nby zolnbyl qy nlupyf nby gily nlonb qy wuh wigjlybyhx. Ni ohxylmnuhx nby nbcham nbun uly un iol xiil cm nby vymn jlyjuluncih zil ohxylmnuhxcha nbimy nbun fcy vysihx.')"
   ]
  }
 ],
 "metadata": {
  "kernelspec": {
   "display_name": "Python 3",
   "language": "python",
   "name": "python3"
  },
  "language_info": {
   "codemirror_mode": {
    "name": "ipython",
    "version": 3
   },
   "file_extension": ".py",
   "mimetype": "text/x-python",
   "name": "python",
   "nbconvert_exporter": "python",
   "pygments_lexer": "ipython3",
   "version": "3.6.5"
  }
 },
 "nbformat": 4,
 "nbformat_minor": 2
}
